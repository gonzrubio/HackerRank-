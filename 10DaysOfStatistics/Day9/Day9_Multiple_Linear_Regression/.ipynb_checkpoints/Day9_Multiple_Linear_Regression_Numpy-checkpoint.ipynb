{
 "cells": [
  {
   "cell_type": "code",
   "execution_count": null,
   "metadata": {},
   "outputs": [],
   "source": [
    "import numpy as np\n",
    "\n",
    "def include_bias(X_in):\n",
    "    ''' Include column vector of ones to account for the bias.'''\n",
    "    return np.column_stack((np.ones((X_in.shape[0],1)),X_in))\n",
    "\n",
    "def linear_model(X,w):\n",
    "    '''Y = Xw'''\n",
    "    return X.dot(w) \n",
    "\n",
    "def OLS(X,Y):\n",
    "    '''((XTX)^-1)XTY'''\n",
    "    return np.linalg.inv(X.transpose().dot(X)).dot(X.transpose()).dot(Y)\n",
    "\n",
    "def get_observations():\n",
    "    '''Return X_obs, Y_obs as numpy arrays.'''\n",
    "    m, n = [int(elem) for elem in str.split(input())] # m-features, n-sets.\n",
    "    X = []\n",
    "    Y = []\n",
    "    for observations_set in range(n):\n",
    "        entry = [float(elem) for elem in str.split(input())]\n",
    "        X.append(entry[:m])\n",
    "        Y.append(entry[m])    \n",
    "        \n",
    "    return include_bias(np.array(X)), np.array(Y)\n",
    "\n",
    "def get_query_points():\n",
    "    '''Return X_query, an n by m+1 ndarray with n-sets of m-features.'''\n",
    "    n = int(input())    \n",
    "    X = []\n",
    "    for query_set in range(n):\n",
    "        X.append([float(elem) for elem in str.split(input())])  \n",
    "        \n",
    "    return include_bias(np.array(X))\n",
    "\n",
    "# User input.\n",
    "X_obs, Y_obs = get_observations()\n",
    "\n",
    "# Analytical solution.\n",
    "w_hat = OLS(X_obs,Y_obs)\n",
    "\n",
    "# Prediction.\n",
    "for y_pred in linear_model(get_query_points(),w_hat): print(f\"{y_pred:.2f}\")"
   ]
  }
 ],
 "metadata": {
  "kernelspec": {
   "display_name": "Python 3",
   "language": "python",
   "name": "python3"
  },
  "language_info": {
   "codemirror_mode": {
    "name": "ipython",
    "version": 3
   },
   "file_extension": ".py",
   "mimetype": "text/x-python",
   "name": "python",
   "nbconvert_exporter": "python",
   "pygments_lexer": "ipython3",
   "version": "3.7.1"
  }
 },
 "nbformat": 4,
 "nbformat_minor": 4
}

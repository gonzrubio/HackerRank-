{
 "cells": [
  {
   "cell_type": "code",
   "execution_count": null,
   "metadata": {},
   "outputs": [],
   "source": [
    "### Sklearn ### Put in CV ###\n",
    "# Scipy, Scikit-learn\n",
    "\n"
   ]
  },
  {
   "cell_type": "code",
   "execution_count": null,
   "metadata": {},
   "outputs": [],
   "source": [
    "from sklearn import linear_model\n",
    "m, n = [int(x) for x in str.split(input())]\n",
    "x = []\n",
    "y = []\n",
    "for i in range(n):\n",
    "    entry = [float(z) for z in str.split(input())]\n",
    "    x.append(entry[:m])\n",
    "    y.append(entry[m])\n",
    "lm = linear_model.LinearRegression()\n",
    "lm.fit(x, y)\n",
    "q = int(input())\n",
    "for i in range(q):\n",
    "    print(lm.predict([float(z) for z in str.split(input())])[0])"
   ]
  },
  {
   "cell_type": "code",
   "execution_count": null,
   "metadata": {},
   "outputs": [],
   "source": [
    "from sklearn import linear_model\n",
    "\n",
    "m, n = [int(e) for e in input().split(\" \")]\n",
    "y = []\n",
    "x = []\n",
    "for i in range(n):\n",
    "    x.append([float(e) for e in input().split(\" \")])\n",
    "    y.append(x[i][m])\n",
    "    x[i].pop()\n",
    "\n",
    "q = int(input())\n",
    "\n",
    "\n",
    "lm = linear_model.LinearRegression()\n",
    "lm.fit(x, y)\n",
    "a = lm.intercept_\n",
    "b = lm.coef_\n",
    "\n",
    "for i in range(q):\n",
    "    res = a\n",
    "    z = ([float(e) for e in input().split(\" \")])\n",
    "    for i in range(m):\n",
    "        res += b[i] * z[i]\n",
    "    print(str(res))"
   ]
  },
  {
   "cell_type": "code",
   "execution_count": null,
   "metadata": {},
   "outputs": [],
   "source": [
    "from sklearn import linear_model\n",
    "\n",
    "n,m = [int(i) for i in input().strip().split(' ')]\n",
    "\n",
    "x_arr = []\n",
    "y_arr = []\n",
    "#print(n,m)\n",
    "for i in range(m):\n",
    "    temp = [float(j) for j in input().strip().split(' ')]\n",
    "    y_arr.append(temp[-1])\n",
    "    x_arr.append(temp[0:-1])\n",
    "\n",
    "#print(x_arr)\n",
    "#print(y_arr)\n",
    "\n",
    "lm = linear_model.LinearRegression()\n",
    "lm.fit(x_arr, y_arr)\n",
    "a = lm.intercept_\n",
    "b = lm.coef_\n",
    "#print(a, b[0], b[1])\n",
    "\n",
    "q = int(input().strip())\n",
    "\n",
    "\n",
    "for i in range(q):\n",
    "    x_test = [float(j) for j in input().strip().split(' ')]\n",
    "    val = a\n",
    "    for j in range(n):\n",
    "        val += b[j]*x_test[j]\n",
    "    print(val)"
   ]
  }
 ],
 "metadata": {
  "kernelspec": {
   "display_name": "Python 3",
   "language": "python",
   "name": "python3"
  },
  "language_info": {
   "codemirror_mode": {
    "name": "ipython",
    "version": 3
   },
   "file_extension": ".py",
   "mimetype": "text/x-python",
   "name": "python",
   "nbconvert_exporter": "python",
   "pygments_lexer": "ipython3",
   "version": "3.7.1"
  }
 },
 "nbformat": 4,
 "nbformat_minor": 4
}
